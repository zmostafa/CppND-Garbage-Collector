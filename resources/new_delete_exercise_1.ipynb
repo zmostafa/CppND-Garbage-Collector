{
 "cells": [
  {
   "cell_type": "markdown",
   "metadata": {
    "graffitiCellId": "id_itvrsfg"
   },
   "source": [
    "# New and Delete LAB\n",
    "\n",
    "## LAB 1\n",
    "\n",
    "### Objectives 1\n",
    "\n",
    "We are going to use new and delete operators for memory management. In this example we are going to try to allocate piece of memory for storage of integer number 10. After that, we are going to use delete operator for freeing occupied memory before program exits. This is done to prevent memory leakage. With this approach, where we always track our memory with pairing every new with delete we are assuring our memory is always released after usage.\n",
    "\n",
    "### Steps 1\n",
    "\n",
    "1. Declare basic include  -> iostream\n",
    "1. Declare main function\n",
    "1. Use pointer syntax to declare integer pointer\n",
    "1. use new operator to allocate memory space for one integer number via new syntax\n",
    "1. Assign that operation to declared pointer\n",
    "1. Print its address and value to make sure that we have right information\n",
    "1. Release occupied space before exiting"
   ]
  },
  {
   "cell_type": "code",
   "execution_count": null,
   "metadata": {
    "graffitiCellId": "id_2rd95pa",
    "graffitiConfig": {
     "executeCellViaGraffiti": "tw3bqt9_mhlaiol"
    }
   },
   "outputs": [],
   "source": [
    "#include <iostream>\n",
    "\n",
    "int main() {\n",
    "\n",
    "    int *ptr;\n",
    "    ptr = new int(10);\n",
    "\n",
    "    std::cout<<\"Number \"<<*ptr << \" is stored on \" << ptr << \" address.\"<<std::endl;\n",
    "\n",
    "    delete ptr;\n",
    "    return 0;\n",
    "}"
   ]
  },
  {
   "cell_type": "markdown",
   "metadata": {
    "graffitiCellId": "id_tw3bqt9"
   },
   "source": [
    "<span class=\"graffiti-highlight graffiti-id_tw3bqt9-id_mhlaiol\"><i></i><button>Run Code</button></span>"
   ]
  },
  {
   "cell_type": "markdown",
   "metadata": {
    "graffitiCellId": "id_j02z4sz",
    "graffitiConfig": {
     "rows": 6,
     "startingDirectory": "notebooks",
     "terminalId": "id_gefltdl",
     "type": "terminal"
    }
   },
   "source": [
    "<i>Loading terminal (id_j02z4sz), please wait...</i>"
   ]
  },
  {
   "cell_type": "code",
   "execution_count": null,
   "metadata": {
    "graffitiCellId": "id_fpbwd5v"
   },
   "outputs": [],
   "source": []
  }
 ],
 "metadata": {
  "graffiti": {
   "firstAuthorId": "11067951528",
   "id": "id_m20qcg0",
   "language": "EN"
  },
  "kernelspec": {
   "display_name": "C++17",
   "language": "C++17",
   "name": "xeus-cling-cpp17"
  },
  "language_info": {
   "codemirror_mode": "text/x-c++src",
   "file_extension": ".cpp",
   "mimetype": "text/x-c++src",
   "name": "c++",
   "version": "-std=c++17"
  },
  "udacity": {
   "header": {
    "hidden": true
   },
   "menubar": {
    "hidden_menus": [
     "edit",
     "view",
     "insert",
     "cell",
     "kernel",
     "widgets",
     "help"
    ]
   },
   "toolbar": {
    "hidden": true
   }
  }
 },
 "nbformat": 4,
 "nbformat_minor": 2
}

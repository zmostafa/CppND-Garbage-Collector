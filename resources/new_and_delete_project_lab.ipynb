{
 "cells": [
  {
   "cell_type": "markdown",
   "metadata": {
    "graffitiCellId": "id_bbo1vr8"
   },
   "source": [
    "# New and delete Project LAB\n",
    "\n",
    "## Description\n",
    "\n",
    "We talked about how every new needs to be followed by delete. In our project, where we are constructing garbage collector, which works on a same principle as shared_ptr, we can see that concept of reference counting is simple. By using static container of data in our class, where we are remembering every address which every instance pointer pointed in memory and  how much references specific memory holds in a given moment. Here in this context, valid usage of delete operator is crucial. We are using collect method from the class to delete unused memory location. We need to decide by our attributes when to use delete and when delete[]. We can see that this method is only called in destructor. every time when any instance of Class pointer goes out scope collect is called to delete any left over garbage (unused memory)."
   ]
  },
  {
   "cell_type": "code",
   "execution_count": null,
   "metadata": {
    "graffitiCellId": "id_2rd95pa",
    "graffitiConfig": {
     "executeCellViaGraffiti": "tw3bqt9_mhlaiol"
    }
   },
   "outputs": [],
   "source": [
    "// Collect garbage. Returns true if at least\n",
    "// one object was freed.\n",
    "template <class T, int size>\n",
    "bool Pointer<T, size>::collect(){\n",
    "    bool memfreed = false;\n",
    "    typename std::list<PtrDetails<T> >::iterator p;\n",
    "    do{\n",
    "        // Scan refContainer looking for unreferenced pointers.\n",
    "        for (p = refContainer.begin(); p != refContainer.end(); p++){\n",
    "            // TODO: Implement collect()\n",
    "            // If in-use, skip.\n",
    "            \n",
    "            // Remove unused entry from refContainer.\n",
    "\n",
    "            // Free memory unless the Pointer is null.\n",
    "            \n",
    "            // Restart the search.\n",
    "            break;\n",
    "        }\n",
    "    } while (p != refContainer.end());\n",
    "    return memfreed;\n",
    "}\n",
    "\n",
    "// Destructor for Pointer.\n",
    "template <class T, int size>\n",
    "Pointer<T, size>::~Pointer(){\n",
    "    typename std::list<PtrDetails<T> >::iterator p;\n",
    "    p = findPtrInfo(addr);\n",
    "    \n",
    "    // TODO: Finalize Pointer destructor\n",
    "    // decrement ref count\n",
    "    \n",
    "    // Collect garbage when a pointer goes out of scope.\n",
    "\n",
    "    // For real use, you might want to collect unused memory less frequently,\n",
    "    // such as after refContainer has reached a certain size, after a certain number of Pointers have gone out of scope,\n",
    "    // or when memory is low.\n",
    "}"
   ]
  },
  {
   "cell_type": "markdown",
   "metadata": {
    "graffitiCellId": "id_tw3bqt9"
   },
   "source": [
    "<span class=\"graffiti-highlight graffiti-id_tw3bqt9-id_mhlaiol\"><i></i><button>Run Code</button></span>"
   ]
  },
  {
   "cell_type": "markdown",
   "metadata": {
    "graffitiCellId": "id_j02z4sz",
    "graffitiConfig": {
     "rows": 6,
     "startingDirectory": "notebooks",
     "terminalId": "id_j02z4sz",
     "type": "terminal"
    }
   },
   "source": [
    "<i>Loading terminal (id_j02z4sz), please wait...</i>"
   ]
  },
  {
   "cell_type": "code",
   "execution_count": null,
   "metadata": {
    "graffitiCellId": "id_fpbwd5v"
   },
   "outputs": [],
   "source": []
  }
 ],
 "metadata": {
  "graffiti": {
   "firstAuthorId": "11067951528",
   "id": "id_m20qcg0",
   "language": "EN"
  },
  "kernelspec": {
   "display_name": "C++17",
   "language": "C++17",
   "name": "xeus-cling-cpp17"
  },
  "language_info": {
   "codemirror_mode": "text/x-c++src",
   "file_extension": ".cpp",
   "mimetype": "text/x-c++src",
   "name": "c++",
   "version": "-std=c++17"
  }
 },
 "nbformat": 4,
 "nbformat_minor": 2
}

{
 "cells": [
  {
   "cell_type": "markdown",
   "metadata": {
    "graffitiCellId": "id_up0rzkb"
   },
   "source": [
    "# LAB 1\n",
    "## Objectives\n",
    "In this example we are going to make an implementation of memory allocation C++ via pointers. Using operators new and delete we are going to successfuly allocate and free memory (deallocation). Using pointers we are enabled to manipulate content of memory which has been allocated for usage.\n",
    "\n",
    "## Steps\n",
    "- Create new cpp file\n",
    "- include standard iostream header\n",
    "- Using pointer syntax declared integer type pointer\n",
    "- Allocate memory of integer size via operator new\n",
    "- Set this part of memory to specific integer\n",
    "- Print memory address\n",
    "- Print memory address value\n",
    "- Free taken memory from the heap\n",
    "- Exit script"
   ]
  },
  {
   "cell_type": "code",
   "execution_count": null,
   "metadata": {
    "graffitiCellId": "id_2rd95pa",
    "graffitiConfig": {
     "executeCellViaGraffiti": "tw3bqt9_mhlaiol"
    }
   },
   "outputs": [],
   "source": [
    "#include <iostream>\n",
    "\n",
    "int main() {\n",
    "    int *ptr;\n",
    "    ptr = new int;\n",
    "    *ptr = 25;\n",
    "    std::cout << \"Address of a pointer: \"<< ptr << std::endl;\n",
    "    std::cout << \"  Value of a pointer: \" << *ptr << std::endl;\n",
    "    delete ptr;\n",
    "    return 0;\n",
    "    /*\n",
    "    OUTPUT:\n",
    "    Address of a pointer: 0x1ca8c20\n",
    "    Value of a pointer: 25\n",
    "    */\n",
    "}"
   ]
  },
  {
   "cell_type": "markdown",
   "metadata": {
    "graffitiCellId": "id_tw3bqt9"
   },
   "source": [
    "<span class=\"graffiti-highlight graffiti-id_tw3bqt9-id_mhlaiol\"><i></i><button>Run Code</button></span>"
   ]
  },
  {
   "cell_type": "markdown",
   "metadata": {
    "graffitiCellId": "id_j02z4sz",
    "graffitiConfig": {
     "rows": 6,
     "startingDirectory": "notebooks",
     "terminalId": "id_j02z4sz",
     "type": "terminal"
    }
   },
   "source": [
    "<i>Loading terminal (id_j02z4sz), please wait...</i>"
   ]
  },
  {
   "cell_type": "code",
   "execution_count": null,
   "metadata": {
    "graffitiCellId": "id_fpbwd5v"
   },
   "outputs": [],
   "source": []
  }
 ],
 "metadata": {
  "graffiti": {
   "firstAuthorId": "11067951528",
   "id": "id_m20qcg0",
   "language": "EN"
  },
  "kernelspec": {
   "display_name": "C++17",
   "language": "C++17",
   "name": "xeus-cling-cpp17"
  },
  "language_info": {
   "codemirror_mode": "text/x-c++src",
   "file_extension": ".cpp",
   "mimetype": "text/x-c++src",
   "name": "c++",
   "version": "-std=c++17"
  },
  "udacity": {
   "header": {
    "hidden": true
   },
   "menubar": {
    "hidden_menus": [
     "edit",
     "view",
     "insert",
     "cell",
     "kernel",
     "widgets",
     "help"
    ]
   },
   "toolbar": {
    "hidden": true
   }
  }
 },
 "nbformat": 4,
 "nbformat_minor": 2
}

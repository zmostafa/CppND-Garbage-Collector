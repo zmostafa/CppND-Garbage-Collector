{
 "cells": [
  {
   "cell_type": "markdown",
   "metadata": {
    "graffitiCellId": "id_up0rzkb"
   },
   "source": [
    "# Lab 3\n",
    "## Objectives 3\n",
    "In this example we are going to try to create dynamic array for integers. With this we can get primitive overview of how some of the popular container libraries in C++ work, such as : vector, queqe, stack etc. We know that dynamic declaration of array was initially supported in C++, but we don't have option to do resize or similar operation once array has been declared. Via pointers and access to memory it is pretty simple. So we are going to try to create couple of functions. First one is \"createArr\" which will create our array with specified size as input. Second one is going to be \"resizeArr\" which will resize our array and preserve our data. For the purpose of this example, to preserve simplicity we will only allow to expand our array to specified number of places.\n",
    "\n",
    "# Steps 3\n",
    "1. include standard library iostream\n",
    "1. Declare createArr function. Its input parameters are just integer value which represent size of array.\n",
    "1. return type of this function is going to be pointer to integer values.\n",
    "1. Declare second function which will have input as integer value. This value is going to represent number of places with which we are going to expand our array\n",
    "1. declare main function.\n",
    "1. first function is going to allocate block of memory for integers. Its size is going to be input parameter.\n",
    "1. first function needs to declare pointer which will show to the newly allocated memory block\n",
    "1. Return that pointer as return value of the function\n",
    "1. second function is going to have three parameters,int pointer which will carry our array, and int variable, which will indicate how much we are going to expand our array and size variable, representing original size\n",
    "1. After that we need to create new pointer which will show to the newly allocated space which expanded by number of places specified by our input parameter. After using for loop we can copy data from old array to new one\n",
    "1. before exiting our function we need to delete old array memory block using delete[] operator\n",
    "1. Return value of our function is going to be newly created pointer, thus our return type of function is going to be pointer of type int\n",
    "1. in main function we can ask for input of size of the array.\n",
    "1. After successful input we can add  our data via for loop\n",
    "1. Ask from user expansion info\n",
    "1. Expand our array with second function\n",
    "1. Print expanded array"
   ]
  },
  {
   "cell_type": "code",
   "execution_count": null,
   "metadata": {
    "graffitiCellId": "id_2rd95pa",
    "graffitiConfig": {
     "executeCellViaGraffiti": "tw3bqt9_mhlaiol"
    }
   },
   "outputs": [],
   "source": [
    "#include <iostream>\n",
    "\n",
    "int* createArr(int n) {\n",
    "    int *ptr = new int[n];\n",
    "    return ptr;\n",
    "}\n",
    "\n",
    "int* resizeArr(int* ptr,int _size, int exValue) {\n",
    "    int *newPtr = new int[_size + exValue];\n",
    "\n",
    "    for (int i = 0; i < _size; i++ ){\n",
    "        newPtr[i] = ptr[i];\n",
    "    }\n",
    "    delete [] ptr;\n",
    "    return newPtr;\n",
    "}\n",
    "\n",
    "int main () {\n",
    "\n",
    "int _size;\n",
    "std:: cout<< \"Size of array: \" << std::endl;\n",
    "std::cin >>_size;\n",
    "    int *ptr = createArr(_size);\n",
    "    for(int i=0;i<_size;i++){\n",
    "\n",
    "        ptr[i] = i*i;\n",
    "    }\n",
    "    std::cout << \"Created array: \"<<std::endl;\n",
    "    for(int i=0;i<_size;i++){\n",
    "        std::cout<< ptr[i] << std::endl;\n",
    "    }\n",
    "    std::cout<< \"Expand value: \";\n",
    "    int expandVal;\n",
    "    std::cin >> expandVal;\n",
    "    ptr = resizeArr(ptr, _size, expandVal);\n",
    "    std::cout<< \"Expanded array: \" << std::endl;\n",
    "    for(int i=0;i<(_size +expandVal);i++){\n",
    "        std::cout<< ptr[i] << std::endl;\n",
    "    }\n",
    "    delete [] ptr;\n",
    "    return 0;\n",
    "}"
   ]
  },
  {
   "cell_type": "markdown",
   "metadata": {
    "graffitiCellId": "id_tw3bqt9"
   },
   "source": [
    "<span class=\"graffiti-highlight graffiti-id_tw3bqt9-id_mhlaiol\"><i></i><button>Run Code</button></span>"
   ]
  },
  {
   "cell_type": "markdown",
   "metadata": {
    "graffitiCellId": "id_j02z4sz",
    "graffitiConfig": {
     "rows": 6,
     "startingDirectory": "notebooks",
     "terminalId": "id_2ls1o3o",
     "type": "terminal"
    }
   },
   "source": [
    "<i>Loading terminal (id_j02z4sz), please wait...</i>"
   ]
  },
  {
   "cell_type": "code",
   "execution_count": null,
   "metadata": {
    "graffitiCellId": "id_fpbwd5v"
   },
   "outputs": [],
   "source": []
  }
 ],
 "metadata": {
  "graffiti": {
   "firstAuthorId": "11067951528",
   "id": "id_m20qcg0",
   "language": "EN"
  },
  "kernelspec": {
   "display_name": "C++17",
   "language": "C++17",
   "name": "xeus-cling-cpp17"
  },
  "language_info": {
   "codemirror_mode": "text/x-c++src",
   "file_extension": ".cpp",
   "mimetype": "text/x-c++src",
   "name": "c++",
   "version": "-std=c++17"
  }
 },
 "nbformat": 4,
 "nbformat_minor": 2
}

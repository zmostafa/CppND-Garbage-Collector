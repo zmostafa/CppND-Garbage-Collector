{
 "cells": [
  {
   "cell_type": "markdown",
   "metadata": {
    "graffitiCellId": "id_bbo1vr8"
   },
   "source": [
    "# Smart Pointer Project Lab\n",
    "\n",
    "Using a Pointer is quite easy. First, include the file Pointer.h. Then, declare a Pointer object,\n",
    "specifying the type of the data to which it will point. For example, to declare a Pointer object called p that can point to an int, use this kind of declaration:\n",
    "\n",
    "```cpp\n",
    "Pointer<int> p; // p can point to int objects\n",
    "```\n",
    "\n",
    "Next, dynamically allocate the memory using new and assign the pointer returned by new to p, as shown here:\n",
    "\n",
    "```cpp\n",
    "p = new int; // assign p the address of an int\n",
    "```\n",
    "\n",
    "You can assign a value to the allocated memory using an assignment operation like this:\n",
    "\n",
    "```cpp\n",
    "*p = 88; // give that int a value\n",
    "```\n",
    "\n",
    "Of course, you can combine the three preceding statements like this:\n",
    "\n",
    "```cpp\n",
    "GCPtr<int> p = new int(88); // declare and initialize\n",
    "```\n",
    "\n",
    "You can obtain the value of the memory at the location pointed to by p, as shown here:\n",
    "\n",
    "```cpp\n",
    "int k = *p;\n",
    "```\n",
    "\n",
    "As these examples show, in general you use a Pointer just like a normal C++ pointer. The only difference is that you don’t need to delete the pointer when you are through with it. The memory allocated to that pointer will be automatically released when it is no longer needed."
   ]
  },
  {
   "cell_type": "markdown",
   "metadata": {
    "graffitiCellId": "id_qi4uozy"
   },
   "source": [
    "In this next code block we will see how we can utilize our pointers to implement complex data structures. We will use our pointer lab 4 base where we implemented double linked list in C++. Now we are going to integrate our project with our previous work. We are going to implement our class Pointer instead of links in the list ( prev, next). With this we can use our reference counting in our advantage. With this we can achieve same effect as we had with smart pointers. Fast, efficient, worried free memory management.\n",
    "And, to prove our idea we are going to leave out our destructor implementation from previous usage of our custom list. Because now we are using our newly developed customized smart pointers."
   ]
  },
  {
   "cell_type": "code",
   "execution_count": null,
   "metadata": {
    "graffitiCellId": "id_2rd95pa",
    "graffitiConfig": {
     "executeCellViaGraffiti": "tw3bqt9_mhlaiol"
    }
   },
   "outputs": [],
   "source": [
    "#include <memory>\n",
    "#include \"gc_pointer.h\"\n",
    "#include \"LeakTester.h\"\n",
    "\n",
    "namespace custom {\n",
    "    template< typename T>\n",
    "    class list {\n",
    "        private:\n",
    "            struct node{\n",
    "            T value;\n",
    "            Pointer< node > prev;\n",
    "            Pointer< node > next;\n",
    "            node(T val, node* _prev, node* _next) : value(val), prev(_prev), next(_next) {}\n",
    "            };\n",
    "            node* head;\n",
    "            node* tail;\n",
    "        public:\n",
    "\n",
    "        // We don't have any destructors or freeing of memory\n",
    "            list(): head(NULL), tail(NULL){}\n",
    "            void push_back(T);\n",
    "            bool empty() const { return ( !head || !tail ); }\n",
    "            void print();\n",
    "    };\n",
    "\n",
    "    template <typename T>\n",
    "    void list<T>::push_back(T val){\n",
    "        list::tail = new node(val, list::tail, NULL);\n",
    "        if(list::tail->prev){\n",
    "            list::tail->prev->next = list::tail;\n",
    "        }\n",
    "        if( list::empty()){\n",
    "            list::head = list::tail;\n",
    "        }\n",
    "    }\n",
    "\n",
    "    template< typename T> \n",
    "    void list<T>::print() { \n",
    "        node* ptr= list::head;  \n",
    "        while(ptr != NULL) { \n",
    "            std::cout<< ptr->value <<\" \"; \n",
    "            ptr = ptr->next; \n",
    "        }\n",
    "        std::cout << std::endl;\n",
    "    }\n",
    "}\n",
    "int main() {\n",
    "custom::list< int > list;\n",
    "\n",
    "std::cout << \"Add 5 numbers: \" << std::endl;\n",
    "for(int i = 0; i < 5; i++) {\n",
    "    int temp;\n",
    "    std::cout<<\"Add \"<< i+1<< \". element:\"<< std::endl;\n",
    "    std::cin >>temp;\n",
    "    list.push_back(temp);\n",
    "}\n",
    "\n",
    "list.print();\n",
    "return 0;\n",
    "}"
   ]
  },
  {
   "cell_type": "markdown",
   "metadata": {
    "graffitiCellId": "id_tw3bqt9"
   },
   "source": [
    "<span class=\"graffiti-highlight graffiti-id_tw3bqt9-id_mhlaiol\"><i></i><button>Run Code</button></span>"
   ]
  },
  {
   "cell_type": "markdown",
   "metadata": {
    "graffitiCellId": "id_j02z4sz",
    "graffitiConfig": {
     "rows": 6,
     "startingDirectory": "notebooks",
     "terminalId": "id_ebyanfv",
     "type": "terminal"
    }
   },
   "source": [
    "<i>Loading terminal (id_j02z4sz), please wait...</i>"
   ]
  },
  {
   "cell_type": "code",
   "execution_count": null,
   "metadata": {
    "graffitiCellId": "id_fpbwd5v"
   },
   "outputs": [],
   "source": []
  }
 ],
 "metadata": {
  "graffiti": {
   "firstAuthorId": "11067951528",
   "id": "id_m20qcg0",
   "language": "EN"
  },
  "kernelspec": {
   "display_name": "C++17",
   "language": "C++17",
   "name": "xeus-cling-cpp17"
  },
  "language_info": {
   "codemirror_mode": "text/x-c++src",
   "file_extension": ".cpp",
   "mimetype": "text/x-c++src",
   "name": "c++",
   "version": "-std=c++17"
  }
 },
 "nbformat": 4,
 "nbformat_minor": 2
}

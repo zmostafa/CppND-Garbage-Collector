{
 "cells": [
  {
   "cell_type": "markdown",
   "metadata": {
    "graffitiCellId": "id_p1fv41z"
   },
   "source": [
    "## LAB 3\n",
    "\n",
    "### Objectives 3\n",
    "\n",
    "Binary tree's are data structures that have a hierarchical form and represent trees whose elements have a maximum number of two children. These children are called the left and the right child. The binary tree root represents the top node. A node that has at least one child is considered a parent of its child. A leaf is a node that has no children.\n",
    "\n",
    "### Steps 3\n",
    "\n",
    "1. Create class called binary_tree\n",
    "1. Create structure called node\n",
    "1. Declare 4 attributes in structure: integer data, two pointers to the same type of structure,called left and right\n",
    "1. Declare main pointer to structure node type called root\n",
    "1. This pointer is attribute of class binary_tree\n",
    "1. This pointer is going to containt all data related to binary tree trought connectin nodes\n",
    "1. Declare two methods called add and search\n",
    "1. Add needs to have logic which will be dependant from data attribute and check for its place of creation on left or right side\n",
    "1. Search needs to be implemented as recursive function\n",
    "1. Check for nullptr in search and call it again on fulfilled condition(< or >)\n",
    "1. First function doesn't have return type\n",
    "1. Second function indicates its success by sending boolean values\n",
    "1. Both class methods are wrappers for two private class method which are going to be implemented recursively for easier usage. \n",
    "1. Private functions are using another input parameter -> node pointer\n",
    "1. This is designed like this for passage of pointers ( left, right)\n",
    "1. Declare two constructors and destructors\n",
    "1. One of the constructor - destructor pair is going to be part of node structure \n",
    "1. Second pair is going to be of class\n",
    "1. Constructors in structure is used to declare new node (Pointers are NULL, data is set)\n",
    "1. Constructor in class is esentially wrapper for stucture constructor\n",
    "1. Structure destructor deletes left and right pointers\n",
    "1. Class destructor deletes root pointer\n",
    "1. Test everything in main\n"
   ]
  },
  {
   "cell_type": "code",
   "execution_count": null,
   "metadata": {
    "graffitiCellId": "id_2rd95pa",
    "graffitiConfig": {
     "executeCellViaGraffiti": "tw3bqt9_mhlaiol"
    }
   },
   "outputs": [],
   "source": [
    "#include <iostream>\n",
    "#include \"LeakTester.h\"\n",
    "class binary_tree {\n",
    "\n",
    "    private:\n",
    "    struct node {\n",
    "        int data;\n",
    "        node *left;\n",
    "        node *right;\n",
    "        node(int _data, node *_left,node *_right): data(_data),left(_left),right(_right){}\n",
    "        ~node() {\n",
    "            if (left)\n",
    "                delete left;\n",
    "            if (right)\n",
    "                delete right;\n",
    "        }\n",
    "    };\n",
    "\n",
    "    node *root;\n",
    "\n",
    "    void add(int val, node *ptr){\n",
    "         if(val > ptr->data){\n",
    "            if(ptr->left != NULL)\n",
    "                add(val, ptr->left);\n",
    "            else\n",
    "                ptr->left=new node(val, NULL, NULL);\n",
    "          }\n",
    "          else if(val <= ptr->data){\n",
    "            if(ptr->right!= NULL)\n",
    "                add(val, ptr->right);\n",
    "            else\n",
    "                ptr->right = new node(val, NULL, NULL);\n",
    "          }\n",
    "    }\n",
    "    bool search(int item, node *ptr){\n",
    "\n",
    "        if(!ptr->left && !ptr->right){\n",
    "            if(ptr->data == item){\n",
    "                return true;\n",
    "            }\n",
    "            return false;\n",
    "        }\n",
    "        if(ptr->data < item && ptr->left){\n",
    "            search(item, ptr->left);\n",
    "        }\n",
    "        else if(ptr->data > item && ptr->right){\n",
    "            search(item, ptr->right);\n",
    "        }\n",
    "    }\n",
    "\n",
    "    public:\n",
    "    binary_tree(int data){\n",
    "        binary_tree::root = new node(data, NULL, NULL);\n",
    "    }\n",
    "    ~binary_tree() {\n",
    "        delete binary_tree::root;\n",
    "    }\n",
    "    void addData(int new_data){\n",
    "        binary_tree::add(new_data, binary_tree::root);\n",
    "    }\n",
    "    bool searchItem(int item) {\n",
    "        return binary_tree::search(item, binary_tree::root);\n",
    "    }\n",
    "};\n",
    "\n",
    "int main() {\n",
    "    binary_tree tree(2);\n",
    "    tree.addData(10);\n",
    "    tree.addData(1);\n",
    "    tree.addData(20);\n",
    "    tree.addData(0);\n",
    "\n",
    "    std::cout<<tree.searchItem(0)<<std::endl;\n",
    "    std::cout<<tree.searchItem(9)<<std::endl;\n",
    "    tree.addData(11);\n",
    "    std::cout<<tree.searchItem(11)<<std::endl;\n",
    "    /* OUTPUT:\n",
    "        1\n",
    "        0\n",
    "        1\n",
    "    */\n",
    "    return 0;\n",
    "}"
   ]
  },
  {
   "cell_type": "markdown",
   "metadata": {
    "graffitiCellId": "id_tw3bqt9"
   },
   "source": [
    "<span class=\"graffiti-highlight graffiti-id_tw3bqt9-id_mhlaiol\"><i></i><button>Run Code</button></span>"
   ]
  },
  {
   "cell_type": "markdown",
   "metadata": {
    "graffitiCellId": "id_j02z4sz",
    "graffitiConfig": {
     "rows": 6,
     "startingDirectory": "notebooks",
     "terminalId": "id_gefltdl",
     "type": "terminal"
    }
   },
   "source": [
    "<i>Loading terminal (id_j02z4sz), please wait...</i>"
   ]
  },
  {
   "cell_type": "code",
   "execution_count": null,
   "metadata": {
    "graffitiCellId": "id_fpbwd5v"
   },
   "outputs": [],
   "source": []
  }
 ],
 "metadata": {
  "graffiti": {
   "firstAuthorId": "11067951528",
   "id": "id_m20qcg0",
   "language": "EN"
  },
  "kernelspec": {
   "display_name": "C++17",
   "language": "C++17",
   "name": "xeus-cling-cpp17"
  },
  "language_info": {
   "codemirror_mode": "text/x-c++src",
   "file_extension": ".cpp",
   "mimetype": "text/x-c++src",
   "name": "c++",
   "version": "-std=c++17"
  },
  "udacity": {
   "header": {
    "hidden": true
   },
   "menubar": {
    "hidden_menus": [
     "edit",
     "view",
     "insert",
     "cell",
     "kernel",
     "widgets",
     "help"
    ]
   },
   "toolbar": {
    "hidden": true
   }
  }
 },
 "nbformat": 4,
 "nbformat_minor": 2
}

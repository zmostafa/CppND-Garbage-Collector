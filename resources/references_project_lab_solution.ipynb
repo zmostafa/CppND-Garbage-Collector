{
 "cells": [
  {
   "cell_type": "markdown",
   "metadata": {
    "graffitiCellId": "id_bbo1vr8"
   },
   "source": [
    "# References Project LAB\n",
    "\n",
    "## Description\n",
    "\n",
    "Project for garbage collection is divided in three main components (classes). First is Iter class which is in charge for creating generic type of iterator for our reference Container. This iterator is used for finding specific pointer data address,reference count and total size. Type of this reference container is list of PtrDetails, which are class for pointer related details, such as addresses and values. Creating user defined pointers is tough task, because we need to mimic all operations, behaviour and general task of classic pointers in C++. Big part of those  tasks are implemented by operators overriding for these types of data.  This is where we are heavily depedent on references. Creating various operators require many implementation where we have input or return parameter passed by reference. This is done for linkage operations on stream, object  copying etc.\n"
   ]
  },
  {
   "cell_type": "code",
   "execution_count": null,
   "metadata": {
    "graffitiCellId": "id_2rd95pa",
    "graffitiConfig": {
     "executeCellViaGraffiti": "tw3bqt9_mhlaiol"
    }
   },
   "outputs": [],
   "source": [
    "// PtrDetails method\n",
    "// Overloading operator== allows two class objects to be compared.\n",
    "// This is needed by the STL list class.\n",
    "template <class T>\n",
    "bool operator==(const PtrDetails<T> &ob1,\n",
    "                const PtrDetails<T> &ob2)\n",
    "{\n",
    "    return (ob1.memPtr == ob2.memPtr);\n",
    "}\n",
    "// Copy constructor of Pointer class\n",
    "template< class T, int size>\n",
    "Pointer<T,size>::Pointer(const Pointer &ob){\n",
    "    typename std::list<PtrDetails<T> >::iterator p;\n",
    "    p = findPtrInfo(ob.addr);\n",
    "    p->refcount++; // increment ref count\n",
    "    addr = ob.addr;\n",
    "    arraySize = ob.arraySize;\n",
    "    if (arraySize > 0)\n",
    "        isArray = true;\n",
    "    else\n",
    "        isArray = false;\n",
    "}\n",
    "// Overload assignment of Pointer to Pointer. (i.e ptr = ptr)\n",
    "template <class T, int size>\n",
    "Pointer<T, size> &Pointer<T, size>::operator=(Pointer &rv){\n",
    "    typename std::list<PtrDetails<T> >::iterator p;\n",
    "    // First, decrement the reference count\n",
    "    // for the memory currently being pointed to.\n",
    "    p = findPtrInfo(addr);\n",
    "    p->refcount--;\n",
    "    // Next, increment the reference count of\n",
    "    // the new address.\n",
    "    p = findPtrInfo(rv.addr);\n",
    "    p->refcount++;  // increment ref count\n",
    "    addr = rv.addr; // store the address.\n",
    "    return rv;\n",
    "}"
   ]
  },
  {
   "cell_type": "markdown",
   "metadata": {
    "graffitiCellId": "id_tw3bqt9"
   },
   "source": [
    "<span class=\"graffiti-highlight graffiti-id_tw3bqt9-id_mhlaiol\"><i></i><button>Run Code</button></span>"
   ]
  },
  {
   "cell_type": "markdown",
   "metadata": {
    "graffitiCellId": "id_j02z4sz",
    "graffitiConfig": {
     "rows": 6,
     "startingDirectory": "notebooks",
     "terminalId": "id_j02z4sz",
     "type": "terminal"
    }
   },
   "source": [
    "<i>Loading terminal (id_j02z4sz), please wait...</i>"
   ]
  },
  {
   "cell_type": "code",
   "execution_count": null,
   "metadata": {
    "graffitiCellId": "id_fpbwd5v"
   },
   "outputs": [],
   "source": []
  }
 ],
 "metadata": {
  "graffiti": {
   "firstAuthorId": "11067951528",
   "id": "id_m20qcg0",
   "language": "EN"
  },
  "kernelspec": {
   "display_name": "C++17",
   "language": "C++17",
   "name": "xeus-cling-cpp17"
  },
  "language_info": {
   "codemirror_mode": "text/x-c++src",
   "file_extension": ".cpp",
   "mimetype": "text/x-c++src",
   "name": "c++",
   "version": "-std=c++17"
  },
  "udacity": {
   "header": {
    "hidden": true
   },
   "menubar": {
    "hidden_menus": [
     "edit",
     "view",
     "insert",
     "cell",
     "kernel",
     "widgets",
     "help"
    ]
   },
   "toolbar": {
    "hidden": true
   }
  }
 },
 "nbformat": 4,
 "nbformat_minor": 2
}

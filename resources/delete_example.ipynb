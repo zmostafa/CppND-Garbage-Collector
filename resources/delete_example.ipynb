{
 "cells": [
  {
   "cell_type": "code",
   "execution_count": null,
   "metadata": {
    "graffitiCellId": "id_2rd95pa",
    "graffitiConfig": {
     "executeCellViaGraffiti": "tw3bqt9_mhlaiol"
    }
   },
   "outputs": [],
   "source": [
    "#include <iostream>\n",
    "// Illustration of memory allocation and deallocation\n",
    "int main() {\n",
    "\n",
    "int *ptr = nullptr;\n",
    "/*\n",
    "When using new, best practice in coding states that we need to enclose it within a try-catch block. The new operator throws an exception and does not return a value. To force the new operator to return a value, you canuse the nothrow qualifier as shown below:\n",
    "*/\n",
    "ptr = new(std::nothrow) int;\n",
    "if (!ptr) {\n",
    " std::cout << \"Mem alloc failed!\" << std::endl;\n",
    "}\n",
    "else {\n",
    "    // assigning value to newly allocated address\n",
    "    *ptr = 31;\n",
    "    // checking our pointer state:\n",
    "    std::cout<<\" Address is: \" << ptr << std::endl;\n",
    "    std::cout<<\" Value is: \" << *ptr << std::endl;\n",
    "}\n",
    "\n",
    "// We are creating pointer to array of integers\n",
    "int *arr_ptr = new(std::nothrow) int[3];\n",
    "// We are storing new values to created array\n",
    "// 0 1 4\n",
    "for (int i=0; i<3; i++)\n",
    "    arr_ptr[i] = (i*i);\n",
    "\n",
    "// Writing our arr_ptr pointer info:\n",
    "\n",
    "for (int i=0; i<3; i++) {\n",
    "    // notice notation for retrieval of memory address\n",
    "    // in array pointers ( we are using references)\n",
    "    std::cout<<\" Address is: \" << &arr_ptr[i] << std::endl;\n",
    "    std::cout<<\" Value is: \" << arr_ptr[i] << std::endl;\n",
    "}\n",
    "\n",
    "// Before our program is finished, we have responsibility\n",
    "// to deallocate all of our allocated memory:\n",
    "\n",
    "// integer pointer\n",
    "delete ptr;\n",
    "// array of integers pointer - block of memory\n",
    "delete[] arr_ptr;\n",
    "\n",
    "return 0;\n",
    "}"
   ]
  },
  {
   "cell_type": "markdown",
   "metadata": {
    "graffitiCellId": "id_tw3bqt9"
   },
   "source": [
    "<span class=\"graffiti-highlight graffiti-id_tw3bqt9-id_mhlaiol\"><i></i><button>Run Code</button></span>"
   ]
  },
  {
   "cell_type": "markdown",
   "metadata": {
    "graffitiCellId": "id_j02z4sz",
    "graffitiConfig": {
     "rows": 6,
     "startingDirectory": "notebooks",
     "terminalId": "id_gefltdl",
     "type": "terminal"
    }
   },
   "source": [
    "<i>Loading terminal (id_j02z4sz), please wait...</i>"
   ]
  },
  {
   "cell_type": "code",
   "execution_count": null,
   "metadata": {
    "graffitiCellId": "id_fpbwd5v"
   },
   "outputs": [],
   "source": []
  }
 ],
 "metadata": {
  "graffiti": {
   "firstAuthorId": "11067951528",
   "id": "id_m20qcg0",
   "language": "EN"
  },
  "kernelspec": {
   "display_name": "C++17",
   "language": "C++17",
   "name": "xeus-cling-cpp17"
  },
  "language_info": {
   "codemirror_mode": "text/x-c++src",
   "file_extension": ".cpp",
   "mimetype": "text/x-c++src",
   "name": "c++",
   "version": "-std=c++17"
  },
  "udacity": {
   "header": {
    "hidden": true
   },
   "menubar": {
    "hidden_menus": [
     "edit",
     "view",
     "insert",
     "cell",
     "kernel",
     "widgets",
     "help"
    ]
   },
   "toolbar": {
    "hidden": true
   }
  }
 },
 "nbformat": 4,
 "nbformat_minor": 2
}

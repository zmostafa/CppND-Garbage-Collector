{
 "cells": [
  {
   "cell_type": "code",
   "execution_count": null,
   "metadata": {
    "graffitiCellId": "id_2rd95pa",
    "graffitiConfig": {
     "executeCellViaGraffiti": "tw3bqt9_mhlaiol"
    }
   },
   "outputs": [],
   "source": [
    "#include <iostream>\n",
    "#include <string>\n",
    "// Declaring function:\n",
    "// Prototype of this function \n",
    "// has input parameters of constant referenced pointer to\n",
    "// char data type \n",
    "// Note: Notice that function doesn't have any return values.\n",
    "void addSpaces(const char * &str1) { \n",
    "    // we are declaring new pointer for storage of new spaces (characters)\n",
    "    char *temp = new char(sizeof(str1)*2);\n",
    "    // Because we are going to move our input pointer\n",
    "    // during our modification we need to remember our start address\n",
    "    char *start = temp;\n",
    "    // moving our pointer to the end of array of character\n",
    "    while(*str1 != '\\0'){\n",
    "        // using pointer arithmetics\n",
    "        // copying value of str1 to memory location where temp is pointing\n",
    "        // after that we are moving through array with these two pointers\n",
    "        *temp++ = *str1++;\n",
    "        // after saving the string value to new allocated space \n",
    "        // we are adding space character and moving \n",
    "        // one more place to prepare our pointer to new string value\n",
    "        *temp++ = ' ';\n",
    "    }\n",
    "    // resetting our original pointer to start address\n",
    "    str1 = start;\n",
    "}\n",
    "\n",
    "int main() {\n",
    "    std::string str = \"Hello World\";\n",
    "    const char* ptr = str.c_str();\n",
    "    std::cout<<\"string is: \"<<ptr<<std::endl;\n",
    "    addSpaces(ptr);\n",
    "    // Our string has been modified without any return value\n",
    "    // key difference was that we used reference to send our\n",
    "    // array of characters to this function\n",
    "    // in this way we are ensuring that all of our changes\n",
    "    // are going to affect our sent data and not copy input\n",
    "    // parameters of function\n",
    "    std::cout<<\"string is: \"<<ptr<<std::endl;\n",
    "    return 0;\n",
    "    /* OUTPUT:\n",
    "        string is: Hello World\n",
    "        string is: H e l l o   W o r l d\n",
    "    */\n",
    "}"
   ]
  },
  {
   "cell_type": "markdown",
   "metadata": {
    "graffitiCellId": "id_tw3bqt9"
   },
   "source": [
    "<span class=\"graffiti-highlight graffiti-id_tw3bqt9-id_mhlaiol\"><i></i><button>Run Code</button></span>"
   ]
  },
  {
   "cell_type": "markdown",
   "metadata": {
    "graffitiCellId": "id_j02z4sz",
    "graffitiConfig": {
     "rows": 6,
     "startingDirectory": "notebooks",
     "terminalId": "id_gefltdl",
     "type": "terminal"
    }
   },
   "source": [
    "<i>Loading terminal (id_j02z4sz), please wait...</i>"
   ]
  },
  {
   "cell_type": "code",
   "execution_count": null,
   "metadata": {
    "graffitiCellId": "id_fpbwd5v"
   },
   "outputs": [],
   "source": []
  }
 ],
 "metadata": {
  "graffiti": {
   "firstAuthorId": "11067951528",
   "id": "id_m20qcg0",
   "language": "EN"
  },
  "kernelspec": {
   "display_name": "C++17",
   "language": "C++17",
   "name": "xeus-cling-cpp17"
  },
  "language_info": {
   "codemirror_mode": "text/x-c++src",
   "file_extension": ".cpp",
   "mimetype": "text/x-c++src",
   "name": "c++",
   "version": "-std=c++17"
  },
  "udacity": {
   "header": {
    "hidden": true
   },
   "menubar": {
    "hidden_menus": [
     "edit",
     "view",
     "insert",
     "cell",
     "kernel",
     "widgets",
     "help"
    ]
   },
   "toolbar": {
    "hidden": true
   }
  }
 },
 "nbformat": 4,
 "nbformat_minor": 2
}

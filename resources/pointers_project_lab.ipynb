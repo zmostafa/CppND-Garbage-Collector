{
 "cells": [
  {
   "cell_type": "markdown",
   "metadata": {
    "graffitiCellId": "id_up0rzkb"
   },
   "source": [
    "# Pointer Project LAB\n",
    "\n",
    "## Description\n",
    "\n",
    "Using pointers we are going to create first part of our project. In this lab using knowledge from pointers and references we are going to create our generic class called \"PtrDetails\". This class defines an element that is stored in the garbage collection information list.\n",
    "\n",
    "## Steps\n",
    "\n",
    "1. Declare generic class PtrDetails\n",
    "1. Create generics via templates\n",
    "1. all attributes and methods are going to be public, because they are going to be used by other classes\n",
    "1. create attribute for refcount\n",
    "1. create attribute memPtr as generic pointer for storage of basic info about memory\n",
    "1. create bool attribute isArray for recognition of memory type allocated\n",
    "1. create attribute arraySize for working with array allocation\n",
    "1. Declare constructor for PtrDetails which will have two parameters\n",
    "1. First constructor paremeter is going to be pointer and second which is not required, is going to be size of eventual array in memory\n",
    "1. We need to construct logic of the constructor  which will set isArray attribute if size is larger then 0\n",
    "1. Create overload operator == which will be used for comparison between to PtrDetails object in lists. It is mandatory"
   ]
  },
  {
   "cell_type": "code",
   "execution_count": null,
   "metadata": {
    "graffitiCellId": "id_2rd95pa",
    "graffitiConfig": {
     "executeCellViaGraffiti": "tw3bqt9_mhlaiol"
    }
   },
   "outputs": [],
   "source": [
    "template <class T>\n",
    "class PtrDetails\n",
    "{\n",
    "  public:\n",
    "    // TODO: Implement PtrDetails\n",
    "};\n",
    "// operator== defines a comparison between two objects\n",
    "\n",
    "template <class T>\n",
    "bool operator==(const PtrDetails<T> &obj_1,\n",
    "                const PtrDetails<T> &obj_2)\n",
    "{\n",
    "    // TODO: Implement operator==\n",
    "}"
   ]
  },
  {
   "cell_type": "markdown",
   "metadata": {
    "graffitiCellId": "id_tw3bqt9"
   },
   "source": [
    "<span class=\"graffiti-highlight graffiti-id_tw3bqt9-id_mhlaiol\"><i></i><button>Run Code</button></span>"
   ]
  },
  {
   "cell_type": "markdown",
   "metadata": {
    "graffitiCellId": "id_j02z4sz",
    "graffitiConfig": {
     "rows": 6,
     "startingDirectory": "notebooks",
     "terminalId": "id_uca2pih",
     "type": "terminal"
    }
   },
   "source": [
    "<i>Loading terminal (id_j02z4sz), please wait...</i>"
   ]
  },
  {
   "cell_type": "code",
   "execution_count": null,
   "metadata": {
    "graffitiCellId": "id_fpbwd5v"
   },
   "outputs": [],
   "source": []
  }
 ],
 "metadata": {
  "graffiti": {
   "firstAuthorId": "11067951528",
   "id": "id_m20qcg0",
   "language": "EN"
  },
  "kernelspec": {
   "display_name": "C++17",
   "language": "C++17",
   "name": "xeus-cling-cpp17"
  },
  "language_info": {
   "codemirror_mode": "text/x-c++src",
   "file_extension": ".cpp",
   "mimetype": "text/x-c++src",
   "name": "c++",
   "version": "-std=c++17"
  }
 },
 "nbformat": 4,
 "nbformat_minor": 2
}

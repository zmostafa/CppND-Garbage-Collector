{
 "cells": [
  {
   "cell_type": "markdown",
   "metadata": {
    "graffitiCellId": "id_w93kkdr"
   },
   "source": [
    "## LAB 2\n",
    "\n",
    "### Objectives 2\n",
    "\n",
    "We are going to use new and delete operators for memory management. In this example we are going to try to allocate block of memory for storage of array of integer numbers.Upon completion we are going to use for loop for storage of input data to newly created array. After that, we are going to use delete array operator for freeing occupied memory before program exits.\n",
    "\n",
    "### Steps 2\n",
    "\n",
    "1. Declare basic include  -> iostream\n",
    "1. Declare main function\n",
    "1. Use pointer syntax to declare integer array pointer\n",
    "1. use new operator to allocate memory block for  integer array\n",
    "1. Assign that operation to declared pointer\n",
    "1. Create for loop and use it to input new values from cin stream\n",
    "1. Print every memory address and value in array 1. Release occupied space before exiting"
   ]
  },
  {
   "cell_type": "code",
   "execution_count": null,
   "metadata": {
    "graffitiCellId": "id_2rd95pa",
    "graffitiConfig": {
     "executeCellViaGraffiti": "tw3bqt9_mhlaiol"
    }
   },
   "outputs": [],
   "source": [
    "#include <iostream>\n",
    "\n",
    "int main() {\n",
    "\n",
    "    int *ptr;\n",
    "    ptr = new int[5];\n",
    "    for(int i = 0; i < 5; i++){\n",
    "        int inputVar;\n",
    "        std::cin>>inputVar;\n",
    "        ptr[i] = inputVar;\n",
    "    }\n",
    "    for(int i = 0; i < 5; i++){\n",
    "        std::cout<<\"Number \"<<ptr[i] << \" is stored on \" << (ptr + i) << \" address.\"<<std::endl;\n",
    "    }\n",
    "\n",
    "    delete[] ptr;\n",
    "    return 0;\n",
    "}"
   ]
  },
  {
   "cell_type": "markdown",
   "metadata": {
    "graffitiCellId": "id_tw3bqt9"
   },
   "source": [
    "<span class=\"graffiti-highlight graffiti-id_tw3bqt9-id_mhlaiol\"><i></i><button>Run Code</button></span>"
   ]
  },
  {
   "cell_type": "markdown",
   "metadata": {
    "graffitiCellId": "id_j02z4sz",
    "graffitiConfig": {
     "rows": 6,
     "startingDirectory": "notebooks",
     "terminalId": "id_gefltdl",
     "type": "terminal"
    }
   },
   "source": [
    "<i>Loading terminal (id_j02z4sz), please wait...</i>"
   ]
  },
  {
   "cell_type": "code",
   "execution_count": null,
   "metadata": {
    "graffitiCellId": "id_fpbwd5v"
   },
   "outputs": [],
   "source": []
  }
 ],
 "metadata": {
  "graffiti": {
   "firstAuthorId": "11067951528",
   "id": "id_m20qcg0",
   "language": "EN"
  },
  "kernelspec": {
   "display_name": "C++17",
   "language": "C++17",
   "name": "xeus-cling-cpp17"
  },
  "language_info": {
   "codemirror_mode": "text/x-c++src",
   "file_extension": ".cpp",
   "mimetype": "text/x-c++src",
   "name": "c++",
   "version": "-std=c++17"
  },
  "udacity": {
   "header": {
    "hidden": true
   },
   "menubar": {
    "hidden_menus": [
     "edit",
     "view",
     "insert",
     "cell",
     "kernel",
     "widgets",
     "help"
    ]
   },
   "toolbar": {
    "hidden": true
   }
  }
 },
 "nbformat": 4,
 "nbformat_minor": 2
}

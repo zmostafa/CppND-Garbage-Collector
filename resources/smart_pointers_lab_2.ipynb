{
 "cells": [
  {
   "cell_type": "markdown",
   "metadata": {
    "graffitiCellId": "id_up0rzkb"
   },
   "source": [
    "## LAB 2\n",
    "\n",
    "### Objectives 2\n",
    "\n",
    "A shared_ptr is a container for raw pointers. It is a reference counting ownership model i.e. it upholds the reference count of its contained pointer in correlation with all of the shared_ptr copies. Basically, any time a new pointer points to a memory block an incrementation of the counter happens. Likewise, it decrements when the destructor of the object is called. With this example we are going to use common method when handling these type of pointers.\n",
    "\n",
    "### Steps 2\n",
    "\n",
    "1. Declare simple class called A\n",
    "1. Add one method which is non - return type\n",
    "1. Print something in it\n",
    "1. Declare new pointer shared_ptr which is same type as declared class\n",
    "1. Using constructor syntax,as part of declaration of pointer declare new class A instace \n",
    "1. Using pointer reference syntax \"->\" invoke class method\n",
    "1. use .get() method to retrieve memory address from declared pointer\n",
    "1. Use use_count method to display current number of references to pointer memory address\n",
    "1. Try to print both addresses via get()\n",
    "1. Use .reset() method to release first pointer memory\n",
    "1. Try same thing\n",
    "1. Notice that info is transfered to next pointer as copy from previous ones"
   ]
  },
  {
   "cell_type": "code",
   "execution_count": null,
   "metadata": {
    "graffitiCellId": "id_2rd95pa",
    "graffitiConfig": {
     "executeCellViaGraffiti": "tw3bqt9_mhlaiol"
    }
   },
   "outputs": [],
   "source": [
    "#include<iostream>\n",
    "#include<memory>\n",
    "using namespace std;\n",
    "\n",
    "class A\n",
    "{\n",
    "public:\n",
    "    void classMethod()\n",
    "    {\n",
    "        cout << \"A::classMethod\" << endl;\n",
    "    }\n",
    "}; \n",
    "  \n",
    "int main() \n",
    "{ \n",
    "    shared_ptr<A> p1 (new A); \n",
    "    cout << p1.get() << endl; \n",
    "    // p1->show(); \n",
    "    shared_ptr<A> p2 (p1); \n",
    "    // p2->show(); \n",
    "    cout << p1.get() << endl; \n",
    "    cout << p2.get() << endl; \n",
    "  \n",
    "    // Returns the number of shared_ptr objects \n",
    "    //referring to the same managed object. \n",
    "    cout << p1.use_count() << endl; \n",
    "    cout << p2.use_count() << endl; \n",
    "  \n",
    "    // Relinquishes ownership of p1 on the object \n",
    "    //and pointer becomes NULL \n",
    "    p1.reset(); \n",
    "    cout << p1.get() << endl; \n",
    "    cout << p2.use_count() << endl; \n",
    "    cout << p2.get() << endl; \n",
    "  \n",
    "    return 0; \n",
    "} "
   ]
  },
  {
   "cell_type": "markdown",
   "metadata": {
    "graffitiCellId": "id_tw3bqt9"
   },
   "source": [
    "<span class=\"graffiti-highlight graffiti-id_tw3bqt9-id_mhlaiol\"><i></i><button>Run Code</button></span>"
   ]
  },
  {
   "cell_type": "markdown",
   "metadata": {
    "graffitiCellId": "id_j02z4sz",
    "graffitiConfig": {
     "rows": 6,
     "startingDirectory": "notebooks",
     "terminalId": "id_j02z4sz",
     "type": "terminal"
    }
   },
   "source": [
    "<i>Loading terminal (id_j02z4sz), please wait...</i>"
   ]
  },
  {
   "cell_type": "code",
   "execution_count": null,
   "metadata": {
    "graffitiCellId": "id_fpbwd5v"
   },
   "outputs": [],
   "source": []
  }
 ],
 "metadata": {
  "graffiti": {
   "firstAuthorId": "11067951528",
   "id": "id_m20qcg0",
   "language": "EN"
  },
  "kernelspec": {
   "display_name": "C++17",
   "language": "C++17",
   "name": "xeus-cling-cpp17"
  },
  "language_info": {
   "codemirror_mode": "text/x-c++src",
   "file_extension": ".cpp",
   "mimetype": "text/x-c++src",
   "name": "c++",
   "version": "-std=c++17"
  },
  "udacity": {
   "header": {
    "hidden": true
   },
   "menubar": {
    "hidden_menus": [
     "edit",
     "view",
     "insert",
     "cell",
     "kernel",
     "widgets",
     "help"
    ]
   },
   "toolbar": {
    "hidden": true
   }
  }
 },
 "nbformat": 4,
 "nbformat_minor": 2
}

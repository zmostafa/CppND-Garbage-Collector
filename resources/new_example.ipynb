{
 "cells": [
  {
   "cell_type": "code",
   "execution_count": null,
   "metadata": {
    "graffitiCellId": "id_2rd95pa",
    "graffitiConfig": {
     "executeCellViaGraffiti": "tw3bqt9_mhlaiol"
    }
   },
   "outputs": [],
   "source": [
    "// Example program\n",
    "#include <iostream>\n",
    "\n",
    "int main()\n",
    "{\n",
    "    double *ptr = new double(23);\n",
    "    double *arr_ptr =  new double[4];\n",
    "    for( int i = 0; i<3; i++) {\n",
    "        *ptr = ++ *ptr;\n",
    "        std::cout<< \"Address: \"<<ptr<<\" Value: \"<<*ptr<<std::endl;\n",
    "        std::cout<< \"Address array: \"<<arr_ptr<<\" Value array: \"<<arr_ptr[i]<<std::endl;\n",
    "    }\n",
    "}\n",
    "// OUTPUT: \n",
    "/*\n",
    "Address: 0x1a809e0 Value: 24\n",
    "Address array: 0x1a80a00 Value array: 0\n",
    "Address: 0x1a809e0 Value: 25\n",
    "Address array: 0x1a80a00 Value array: 0\n",
    "Address: 0x1a809e0 Value: 26\n",
    "Address array: 0x1a80a00 Value array: 0\n",
    "*/"
   ]
  },
  {
   "cell_type": "markdown",
   "metadata": {
    "graffitiCellId": "id_tw3bqt9"
   },
   "source": [
    "<span class=\"graffiti-highlight graffiti-id_tw3bqt9-id_mhlaiol\"><i></i><button>Run Code</button></span>"
   ]
  },
  {
   "cell_type": "markdown",
   "metadata": {
    "graffitiCellId": "id_j02z4sz",
    "graffitiConfig": {
     "rows": 6,
     "startingDirectory": "notebooks",
     "terminalId": "id_gefltdl",
     "type": "terminal"
    }
   },
   "source": [
    "<i>Loading terminal (id_j02z4sz), please wait...</i>"
   ]
  },
  {
   "cell_type": "code",
   "execution_count": null,
   "metadata": {
    "graffitiCellId": "id_fpbwd5v"
   },
   "outputs": [],
   "source": []
  }
 ],
 "metadata": {
  "graffiti": {
   "firstAuthorId": "11067951528",
   "id": "id_m20qcg0",
   "language": "EN"
  },
  "kernelspec": {
   "display_name": "C++17",
   "language": "C++17",
   "name": "xeus-cling-cpp17"
  },
  "language_info": {
   "codemirror_mode": "text/x-c++src",
   "file_extension": ".cpp",
   "mimetype": "text/x-c++src",
   "name": "c++",
   "version": "-std=c++17"
  },
  "udacity": {
   "header": {
    "hidden": true
   },
   "menubar": {
    "hidden_menus": [
     "edit",
     "view",
     "insert",
     "cell",
     "kernel",
     "widgets",
     "help"
    ]
   },
   "toolbar": {
    "hidden": true
   }
  }
 },
 "nbformat": 4,
 "nbformat_minor": 2
}

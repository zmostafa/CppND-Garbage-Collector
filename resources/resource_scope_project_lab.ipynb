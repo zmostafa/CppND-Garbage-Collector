{
 "cells": [
  {
   "cell_type": "markdown",
   "metadata": {
    "graffitiCellId": "id_bbo1vr8"
   },
   "source": [
    "# Leak Tester Overview\n",
    "## Description\n",
    "In our project we are using static global initialization in a section dedicated to our declaration of first attribute. This attribute is used to invoke registration of atexit function, which is in charge to call its input parameter function upon exit from the main function. We are calling shutdown function which is in charge of deleting of counts of references to all stored memory addres and simply deleting any remaining used space in memory. For this we need to set our first flag just once in global scope and reset it after first initialization by class constructor. Also we need to declare our static container in global scope."
   ]
  },
  {
   "cell_type": "code",
   "execution_count": null,
   "metadata": {
    "graffitiCellId": "id_2rd95pa",
    "graffitiConfig": {
     "executeCellViaGraffiti": "tw3bqt9_mhlaiol"
    }
   },
   "outputs": [],
   "source": [
    "// STATIC INITIALIZATION\n",
    "// Creates storage for the static variables\n",
    "template <class T, int size>\n",
    "std::list<PtrDetails<T> > Pointer<T, size>::refContainer;\n",
    "template < class T, int size>\n",
    "bool Pointer<T, size>::first = true;"
   ]
  },
  {
   "cell_type": "code",
   "execution_count": null,
   "metadata": {
    "graffitiCellId": "id_x4891rs"
   },
   "outputs": [],
   "source": [
    "namespace __Tester__ {\n",
    "  typedef unsigned long ULong; \n",
    "  struct Info {\n",
    "    void *address;\n",
    "    long line;\n",
    "    std::size_t _size;\n",
    "    bool isArray;\n",
    "    Info *link;\n",
    "  } *alloc_map(0);\n",
    "  int alloc_count(0), dealloc_count(0);\n",
    "  long alloc_total(0), dealloc_total(0), alloc_current(0), \n",
    "    alloc_max(0);\n",
    "  bool notifications(false);\n",
    "  char previous_name[1000] = \"\";\n",
    "  FILE *output(stdout);\n",
    "  void redirect_output(const char name[]) {\n",
    "    if(output != stdout) fclose(output);\n",
    "    if(name) {\n",
    "      if(strcmp(name, previous_name)) output = fopen(name, \"w\");\n",
    "      else output = fopen(name, \"a\");\n",
    "      if(output) {\n",
    "        strcpy(previous_name, name); return;\n",
    "      }\n",
    "    }\n",
    "    output = stdout;\n",
    "  }\n",
    "  void *Alloc(long line, std::size_t _size, bool isArray) {\n",
    "    void *address(std::malloc(_size));\n",
    "    if(!address) throw std::bad_alloc();\n",
    "    if(line != -1) {\n",
    "      alloc_count++;\n",
    "      alloc_total += _size; alloc_current += _size;\n",
    "      if(alloc_current > alloc_max) alloc_max = alloc_current;\n",
    "      if(notifications) {\n",
    "        if(line == -2) std::fprintf(output, \">>> Internally allocated \");\n",
    "        else std::fprintf(output, \">>> in %ld. line of the script we have allocated memory with the line: \", line);\n",
    "        std::fprintf(output, \"%lu bytes, on address %p\\n\", (ULong)_size, address);\n",
    "      }\n",
    "    }\n",
    "    Info info = {address, line, _size, isArray, alloc_map};\n",
    "    if(!(alloc_map = (Info*)std::malloc(sizeof(Info)))) \n",
    "       throw std::bad_alloc(); \n",
    "    *alloc_map = info;\n",
    "    return address;\n",
    "  }\n",
    "  void Dealloc(void *ptr, bool isArray) {\n",
    "    Info *current(alloc_map), *previous(0);\n",
    "    for(; current && current->address != ptr; current = current->link)\n",
    "      previous = current;           \n",
    "    if(current) {\n",
    "      if(current->line != -1) {\n",
    "        std::size_t _size(current->_size);\n",
    "        dealloc_count++;\n",
    "        dealloc_total += _size; alloc_current -= _size;\n",
    "        if(notifications) {\n",
    "          std::fprintf(output, \">>> Releasing %lu bytes on address %p\\n\", \n",
    "            (ULong)_size, ptr);\n",
    "        }\n",
    "        if(isArray != current->isArray)\n",
    "          std::fprintf(output, \"*** ERROR: Releasing on address %p %s \"\n",
    "            \"should be done with delete[]!\\n\", \n",
    "            ptr, isArray ? \"no\" : \"yes\");\n",
    "      }\n",
    "      if(previous) previous->link = current->link;                   \n",
    "      else alloc_map = current->link;\n",
    "      std::free(current); std::free(ptr);     \n",
    "    }\n",
    "    else if(ptr) {\n",
    "      const std::size_t pomak(sizeof(std::size_t)); \n",
    "      void *ptr1((char*)ptr + (isArray ? pomak : -pomak));\n",
    "      for(current = alloc_map; current && current->address != ptr1; \n",
    "        current = current->link);\n",
    "      if(current)\n",
    "        std::fprintf(output, \"*** ERROR: Releasing on address %p %s should \"\n",
    "          \"be done with delete[]!\\n\", ptr1, isArray ? \"no\" : \"yes\");\n",
    "      else              \n",
    "        fprintf(output, \"*** ERROR: You are trying to release already released space \"\n",
    "          \"on address %p!\\n\", ptr);       \n",
    "    }  \n",
    "  }\n",
    "  void Terminator();\n",
    "  struct Reporter {\n",
    "    void (*old_terminator)();\n",
    "    Reporter() : old_terminator(std::set_terminate(Terminator)) {}\n",
    "    ~Reporter() {\n",
    "      std::fprintf(output, \"\\n\\n+---------------+\\n| FINAL REPORT: |\\n\"\n",
    "        \"+---------------+\\n\\nTotal number of allocations: %d\\nTotal number of \"\n",
    "        \"deallocations: %d\\nTotal number of allocations in bytes: %ld\\n\"\n",
    "        \"Total number of deallocations in bytes: %ld\\nMaximum \"\n",
    "        \"memory occupation during runtime in bytes: %ld\\nMemory occupation \"\n",
    "        \"upon completion: %ld\\n\", alloc_count,\n",
    "        dealloc_count, alloc_total, dealloc_total, \n",
    "        alloc_max, alloc_current); \n",
    "      if(alloc_map) {\n",
    "        std::fprintf(output, \"\\n\\nLEAK! YOU HAVE MEMORY LEAKAGE ON FOLLOWING PLACES: \\n\");\n",
    "        for(Info *current = alloc_map; current; current = current->link)\n",
    "          if(current->line == -2)\n",
    "            std::fprintf(output, \" - address %p, %lu bytes, allocated internally\\n\",\n",
    "              current->address, (ULong)current->_size);\n",
    "          else\n",
    "            std::fprintf(output, \" - address %p, %lu bytes, allocated in %ld. \"\n",
    "              \"line\\n\", current->address, (ULong)current->_size, \n",
    "              current->line);\n",
    "        std::fprintf(output, \"\\n\");\n",
    "      }\n",
    "      else\n",
    "        std::fprintf(output, \"\\n\\nGREAT JOB! YOU DO NOT HAVE MEMORY LEAKAGE\\n\\n\");\n",
    "      if(output != stdout) fclose(output);  \n",
    "      std::system(\"PAUSE\");\n",
    "    }  \n",
    "  } reporter;\n",
    "  void Terminator() {\n",
    "    reporter.Reporter::~Reporter();\n",
    "    reporter.old_terminator();\n",
    "  }   \n",
    "}"
   ]
  },
  {
   "cell_type": "markdown",
   "metadata": {
    "graffitiCellId": "id_tw3bqt9"
   },
   "source": [
    "<span class=\"graffiti-highlight graffiti-id_tw3bqt9-id_mhlaiol\"><i></i><button>Run Code</button></span>"
   ]
  },
  {
   "cell_type": "markdown",
   "metadata": {
    "graffitiCellId": "id_j02z4sz",
    "graffitiConfig": {
     "rows": 6,
     "startingDirectory": "notebooks",
     "terminalId": "id_j02z4sz",
     "type": "terminal"
    }
   },
   "source": [
    "<i>Loading terminal (id_j02z4sz), please wait...</i>"
   ]
  },
  {
   "cell_type": "code",
   "execution_count": null,
   "metadata": {
    "graffitiCellId": "id_fpbwd5v"
   },
   "outputs": [],
   "source": []
  }
 ],
 "metadata": {
  "graffiti": {
   "firstAuthorId": "11067951528",
   "id": "id_m20qcg0",
   "language": "EN"
  },
  "kernelspec": {
   "display_name": "C++17",
   "language": "C++17",
   "name": "xeus-cling-cpp17"
  },
  "language_info": {
   "codemirror_mode": "text/x-c++src",
   "file_extension": ".cpp",
   "mimetype": "text/x-c++src",
   "name": "c++",
   "version": "-std=c++17"
  }
 },
 "nbformat": 4,
 "nbformat_minor": 2
}

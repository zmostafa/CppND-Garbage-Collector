{
 "cells": [
  {
   "cell_type": "markdown",
   "metadata": {
    "graffitiCellId": "id_up0rzkb"
   },
   "source": [
    "# Doubly linked lists\n",
    "Doubly linked list is a type of data structure that is made up of so called objects that are created using self referential structures. Each of these nodes contain three attributes, namely the value and the reference to the next list object and the reference to the previous list object.\n",
    "\n",
    "Because the list is linked in both directions, any node has the ability to access any other node. That means that the user of a doubly linked list need only keep track of a single node.\n",
    "\n",
    "The last node in the list points forward to nothing, which can be represented by `nullptr`. The same is true for the first node in the list, which points backward to nothing.\n",
    "\n",
    "In this exercise you will create a doubly linked list, which exposes 4 methods: \n",
    "* **`push_back()`**: add values to the end of the list\n",
    "* **`push_front()`**: add values to the beginning to the list\n",
    "* **`pop_back()`**: delete values from the end of the list\n",
    "* **`pop_front()`**: delete values from the front of the list\n",
    "\n",
    "Also, you will implement a helper function, `empty()`, which returns whether or not the list has any nodes.\n",
    "\n",
    "## Steps\n",
    "1. Declare `class List` to represent the doubly linked list\n",
    "2. Declare `struct Node` to represent the nodes in the list\n",
    "3. Declare a constructor for `struct Node`\n",
    "4. Declare a member variable `head` that belongs to `class List` and points to the first node in the list\n",
    "5. Declare a member variable `head` that belongs to `class List` and points to the first node in the list\n",
    "6. Declare a constructor for the doubly linked list\n",
    "7. Declare a destructor for `class List`\n",
    "8. Implement the `class List` destructor to `delete` all of the nodes in the list\n",
    "9. Declare `List::PushFront()` to push nodes onto the front of the list\n",
    "10. Declare `List::PushBack()` to push nodes onto the back of the list\n",
    "11. Declare `List::PopFront()` to delete nodes from the front of the list\n",
    "12. Declare `List::PopBack()` to delete nodes from the back of the list\n",
    "13. Declare `List::Size()` to count the number of nodes in the list\n",
    "14. Test that all member functions in `class List` behave properly, even if the list is empty"
   ]
  },
  {
   "cell_type": "code",
   "execution_count": null,
   "metadata": {
    "graffitiCellId": "id_2rd95pa",
    "graffitiConfig": {
     "executeCellViaGraffiti": "tw3bqt9_mhlaiol"
    }
   },
   "outputs": [],
   "source": [
    "#include <assert.h>\n",
    "\n",
    "// Define class List\n",
    "\n",
    "// Define class List private members and declare private Node\n",
    "\n",
    "// Declare List::~List\n",
    "\n",
    "// Declare List::PushFront()\n",
    "\n",
    "// Declare List::PushBack()\n",
    "\n",
    "// Declare List::PopFront()\n",
    "\n",
    "// Declare List::PopBack()\n",
    "\n",
    "// Declare List::Size()\n",
    "\n",
    "// Design a doubly linked list to pass these tests\n",
    "int main() {\n",
    "  // Sanity test\n",
    "  List<int> list1;\n",
    "  list1.PushBack(9);\n",
    "  assert(list1.Size() == 1);\n",
    "\n",
    "  // Deeper test\n",
    "  List<int> list2;\n",
    "  list2.PushFront(9);\n",
    "  list2.PushBack(10);\n",
    "  assert(list2.Size() == 2);\n",
    "  assert(list2.PopBack() == 10);\n",
    "  assert(list2.PopFront() == 9);\n",
    "  assert(list2.Size() == 0);\n",
    "}"
   ]
  },
  {
   "cell_type": "markdown",
   "metadata": {
    "graffitiCellId": "id_j02z4sz",
    "graffitiConfig": {
     "rows": 12,
     "startingDirectory": "notebooks",
     "terminalId": "id_6fq6ek4",
     "type": "terminal"
    }
   },
   "source": [
    "<i>Loading terminal (id_j02z4sz), please wait...</i>"
   ]
  },
  {
   "cell_type": "markdown",
   "metadata": {
    "graffitiCellId": "id_tw3bqt9"
   },
   "source": [
    "<span class=\"graffiti-highlight graffiti-id_tw3bqt9-id_mhlaiol\"><i></i><button>Compile & Run</button></span>&nbsp;\n",
    "<span class=\"graffiti-highlight graffiti-id_bcjsdv0-id_6f4t0ja\"><i></i><button>Explain</button></span>"
   ]
  }
 ],
 "metadata": {
  "graffiti": {
   "firstAuthorId": "11067951528",
   "id": "id_m20qcg0",
   "language": "EN"
  },
  "kernelspec": {
   "display_name": "C++17",
   "language": "C++17",
   "name": "xeus-cling-cpp17"
  },
  "language_info": {
   "codemirror_mode": "text/x-c++src",
   "file_extension": ".cpp",
   "mimetype": "text/x-c++src",
   "name": "c++",
   "version": "-std=c++17"
  }
 },
 "nbformat": 4,
 "nbformat_minor": 2
}

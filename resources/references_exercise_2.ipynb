{
 "cells": [
  {
   "cell_type": "markdown",
   "metadata": {
    "graffitiCellId": "id_k8hc676"
   },
   "source": [
    "## LAB 2\n",
    "### Objectives 2\n",
    "In this lab we are going to use declaration of references to reflect variable changes. We are going to use two variables, of different data types for storage of data, and then declare their references to track their changes. After that we are going compare it.\n",
    "\n",
    "### Steps 2\n",
    "1. Declare one integer and one double variable\n",
    "1. Declare two references of same type\n",
    "1. Use initial variables and assign them upon initialization to corresponding references\n",
    "1. Check references, write them out\n",
    "1. Change, modify variables\n",
    "1. Write references again\n"
   ]
  },
  {
   "cell_type": "code",
   "execution_count": null,
   "metadata": {
    "graffitiCellId": "id_2rd95pa",
    "graffitiConfig": {
     "executeCellViaGraffiti": "tw3bqt9_mhlaiol"
    }
   },
   "outputs": [],
   "source": [
    "#include <iostream>\n",
    "\n",
    "using namespace std;\n",
    "\n",
    "int main () {\n",
    "   int    x;\n",
    "   double y;\n",
    "\n",
    "   int&    ref_x = x;\n",
    "   double& ref_y = y;\n",
    "\n",
    " \n",
    "   cout << \"Value of x reference : \" << ref_x  << endl;\n",
    "   cout << \"Value of y reference : \" << ref_y  << endl;\n",
    "\n",
    "\n",
    "   x = 5;\n",
    "   y = 11.7;\n",
    "   \n",
    "   cout << \"Value of x reference : \" << ref_x  << endl;\n",
    "   cout << \"Value of y reference : \" << ref_y  << endl;\n",
    "\n",
    "   return 0;\n",
    "}"
   ]
  },
  {
   "cell_type": "markdown",
   "metadata": {
    "graffitiCellId": "id_tw3bqt9"
   },
   "source": [
    "<span class=\"graffiti-highlight graffiti-id_tw3bqt9-id_mhlaiol\"><i></i><button>Run Code</button></span>"
   ]
  },
  {
   "cell_type": "markdown",
   "metadata": {
    "graffitiCellId": "id_j02z4sz",
    "graffitiConfig": {
     "rows": 6,
     "startingDirectory": "notebooks",
     "terminalId": "id_qtwxnm9",
     "type": "terminal"
    }
   },
   "source": [
    "<i>Loading terminal (id_j02z4sz), please wait...</i>"
   ]
  },
  {
   "cell_type": "code",
   "execution_count": null,
   "metadata": {
    "graffitiCellId": "id_fpbwd5v"
   },
   "outputs": [],
   "source": []
  }
 ],
 "metadata": {
  "graffiti": {
   "firstAuthorId": "11067951528",
   "id": "id_m20qcg0",
   "language": "EN"
  },
  "kernelspec": {
   "display_name": "C++17",
   "language": "C++17",
   "name": "xeus-cling-cpp17"
  },
  "language_info": {
   "codemirror_mode": "text/x-c++src",
   "file_extension": ".cpp",
   "mimetype": "text/x-c++src",
   "name": "c++",
   "version": "-std=c++17"
  }
 },
 "nbformat": 4,
 "nbformat_minor": 2
}

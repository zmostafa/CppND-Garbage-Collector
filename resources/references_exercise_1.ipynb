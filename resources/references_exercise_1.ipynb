{
 "cells": [
  {
   "cell_type": "markdown",
   "metadata": {
    "graffitiCellId": "id_k8hc676"
   },
   "source": [
    "## LAB 1\n",
    "\n",
    "### Objectives 1\n",
    "\n",
    " In this lab we are going to introduce a concept of references. We are going to make a function which will have simple task. To swap two variables. This task couldn't be fulfilled without references. In this case, if we look closely we have two input parameters which needs to be modified as a result of execution of this function. We are going to create a function which will have two generic  input parameters, used via template arguments. After that we are going to pass these paremeters via reference. Because we are sending these values with their corresponding info about their place in memory, we will directly affect these arguments from the function.\n",
    "\n",
    "### Steps 1\n",
    "\n",
    "1. Create function swap.\n",
    "1. Use template arguments, create generic type T which will be type of both input parameters\n",
    "1. Declare input parameters by reference\n",
    "1. Create function logic to swap two variable data\n",
    "1. Logic is going to swap variables without usage of the helper ( temp ) variable\n",
    "1. return type of function is void ( doesn't return value)\n",
    "1. Print out value of variables before and after function execution\n",
    "1. exit main function\n"
   ]
  },
  {
   "cell_type": "code",
   "execution_count": null,
   "metadata": {
    "graffitiCellId": "id_2rd95pa",
    "graffitiConfig": {
     "executeCellViaGraffiti": "tw3bqt9_mhlaiol"
    }
   },
   "outputs": [],
   "source": [
    "#include <iostream>\n",
    "\n",
    "template <typename Type>\n",
    "void swap(Type& var1, Type& var2) {\n",
    "\n",
    "    var1 += var2;\n",
    "    var2 = var1 - var2;\n",
    "    var1 -= var2;\n",
    "}\n",
    "\n",
    "int main() {\n",
    "\n",
    "    float var1 = 23.2;\n",
    "    float var2 = 14.83;\n",
    "\n",
    "    std::cout << \"Values before swap: \" << var1 << \" \" << var2 << std::endl;\n",
    "    swap(var1, var2);\n",
    "    std::cout << \"Values after swap: \" << var1 <<  \" \" << var2 << std::endl;\n",
    "\n",
    "    return 0;\n",
    "}"
   ]
  },
  {
   "cell_type": "markdown",
   "metadata": {
    "graffitiCellId": "id_tw3bqt9"
   },
   "source": [
    "<span class=\"graffiti-highlight graffiti-id_tw3bqt9-id_mhlaiol\"><i></i><button>Run Code</button></span>"
   ]
  },
  {
   "cell_type": "markdown",
   "metadata": {
    "graffitiCellId": "id_j02z4sz",
    "graffitiConfig": {
     "rows": 6,
     "startingDirectory": "notebooks",
     "terminalId": "id_ebjeibj",
     "type": "terminal"
    }
   },
   "source": [
    "<i>Loading terminal (id_j02z4sz), please wait...</i>"
   ]
  },
  {
   "cell_type": "code",
   "execution_count": null,
   "metadata": {
    "graffitiCellId": "id_fpbwd5v"
   },
   "outputs": [],
   "source": []
  }
 ],
 "metadata": {
  "graffiti": {
   "firstAuthorId": "11067951528",
   "id": "id_m20qcg0",
   "language": "EN"
  },
  "kernelspec": {
   "display_name": "C++17",
   "language": "C++17",
   "name": "xeus-cling-cpp17"
  },
  "language_info": {
   "codemirror_mode": "text/x-c++src",
   "file_extension": ".cpp",
   "mimetype": "text/x-c++src",
   "name": "c++",
   "version": "-std=c++17"
  },
  "udacity": {
   "header": {
    "hidden": true
   },
   "menubar": {
    "hidden_menus": [
     "edit",
     "view",
     "insert",
     "cell",
     "kernel",
     "widgets",
     "help"
    ]
   },
   "toolbar": {
    "hidden": true
   }
  }
 },
 "nbformat": 4,
 "nbformat_minor": 2
}

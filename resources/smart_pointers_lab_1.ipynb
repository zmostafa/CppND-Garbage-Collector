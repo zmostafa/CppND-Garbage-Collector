{
 "cells": [
  {
   "cell_type": "markdown",
   "metadata": {
    "graffitiCellId": "id_up0rzkb"
   },
   "source": [
    "# Smart pointers lab\n",
    "\n",
    "## LAB 1\n",
    "\n",
    "## Objectives 1\n",
    "\n",
    "We are going to illustrate use of unique_ptr  in C++. With this example we are going to use common method when handling these type of pointers.\n",
    "\n",
    "## Steps 1\n",
    "\n",
    "1. Declare simple class called A\n",
    "1. Add one method which is non - return type\n",
    "1. Print something in it\n",
    "1. Declare new pointer unique_ptr which is same type as declared class\n",
    "1. Using constructor syntax,as part of declaration of pointer declare new class A instace \n",
    "1. Using pointer reference syntax \"->\" invoke class method\n",
    "1. use .get() method to retrieve memory address from declared pointer\n",
    "1. Use move method to transfer memory data from first pointer to second one\n",
    "1. Try to print both addresses via get()\n",
    "1. Add third pointer\n",
    "1. Try same thing\n",
    "1. Notice that info is transfered to next pointer without leaving copies in previous ones"
   ]
  },
  {
   "cell_type": "code",
   "execution_count": null,
   "metadata": {
    "graffitiCellId": "id_2rd95pa",
    "graffitiConfig": {
     "executeCellViaGraffiti": "tw3bqt9_mhlaiol"
    }
   },
   "outputs": [],
   "source": [
    "// C++ program to illustrate the use of unique_ptr \n",
    "#include<iostream> \n",
    "#include<memory> \n",
    "using namespace std;\n",
    "  \n",
    "class MyClass\n",
    "{\n",
    "public:\n",
    "    void classMethod()\n",
    "    {\n",
    "        cout << \"MyClass::classMethod\" << endl;\n",
    "    }\n",
    "};\n",
    "  \n",
    "int main()\n",
    "{\n",
    "    unique_ptr<MyClass> ptr_1 (new MyClass);\n",
    "    ptr_1->classMethod();\n",
    "  \n",
    "    // returns the memory address of ptr_1\n",
    "    cout << ptr_1.get() << endl;\n",
    "  \n",
    "    // transfers ownership to ptr_2\n",
    "    unique_ptr<MyClass> ptr_2 = move(ptr_1);\n",
    "    ptr_2 -> classMethod();\n",
    "    cout << ptr_1.get() << endl;\n",
    "    cout << ptr_2.get() << endl;\n",
    "  \n",
    "    // transfers ownership to ptr_3\n",
    "    unique_ptr<MyClass> ptr_3 = move (ptr_2);\n",
    "    ptr_3->classMethod();\n",
    "    cout << ptr_1.get() << endl;\n",
    "    cout << ptr_2.get() << endl;\n",
    "    cout << ptr_3.get() << endl;\n",
    "  \n",
    "    return 0;\n",
    "}"
   ]
  },
  {
   "cell_type": "markdown",
   "metadata": {
    "graffitiCellId": "id_tw3bqt9"
   },
   "source": [
    "<span class=\"graffiti-highlight graffiti-id_tw3bqt9-id_mhlaiol\"><i></i><button>Run Code</button></span>"
   ]
  },
  {
   "cell_type": "markdown",
   "metadata": {
    "graffitiCellId": "id_j02z4sz",
    "graffitiConfig": {
     "rows": 6,
     "startingDirectory": "notebooks",
     "terminalId": "id_j02z4sz",
     "type": "terminal"
    }
   },
   "source": [
    "<i>Loading terminal (id_j02z4sz), please wait...</i>"
   ]
  },
  {
   "cell_type": "code",
   "execution_count": null,
   "metadata": {
    "graffitiCellId": "id_fpbwd5v"
   },
   "outputs": [],
   "source": []
  }
 ],
 "metadata": {
  "graffiti": {
   "firstAuthorId": "11067951528",
   "id": "id_m20qcg0",
   "language": "EN"
  },
  "kernelspec": {
   "display_name": "C++17",
   "language": "C++17",
   "name": "xeus-cling-cpp17"
  },
  "language_info": {
   "codemirror_mode": "text/x-c++src",
   "file_extension": ".cpp",
   "mimetype": "text/x-c++src",
   "name": "c++",
   "version": "-std=c++17"
  },
  "udacity": {
   "header": {
    "hidden": true
   },
   "menubar": {
    "hidden_menus": [
     "edit",
     "view",
     "insert",
     "cell",
     "kernel",
     "widgets",
     "help"
    ]
   },
   "toolbar": {
    "hidden": true
   }
  }
 },
 "nbformat": 4,
 "nbformat_minor": 2
}

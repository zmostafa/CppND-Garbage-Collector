{
 "cells": [
  {
   "cell_type": "markdown",
   "metadata": {
    "graffitiCellId": "id_up0rzkb"
   },
   "source": [
    "# LAB 2\n",
    "## Objectives 2\n",
    "In this example we are showing technique of an implementation of function which will return multiple values. Using pointers we can implement this via references. If we take into consideration that passage of data by reference doesn't copy this object, we can pass our object to a function and execute required actions. In this example we are going to make a primitive function which calculates cosine and sine values of a specific angle (in radians) using just one function.\n",
    "\n",
    "## Steps 2\n",
    "1. Include standard library iostream\n",
    "2. Include math.h library for usage of trigonometrical functions\n",
    "3. create a function which will have three parameters: _sin, _cos and angle. all parameters are double\n",
    "4. Return type of this function is void\n",
    "5. Declare input parameters (except angle variable) as pointers to double type\n",
    "6. Create main function\n",
    "7. Declare three double variables: angle, _sin, _cos\n",
    "8. Ask for input value of angle via cin from a user\n",
    "9. Call trigonometry function (pass sin and cos variables by references)\n",
    "10. Print results in console"
   ]
  },
  {
   "cell_type": "code",
   "execution_count": null,
   "metadata": {
    "graffitiCellId": "id_2rd95pa",
    "graffitiConfig": {
     "executeCellViaGraffiti": "tw3bqt9_mhlaiol"
    }
   },
   "outputs": [],
   "source": [
    "#include <iostream>\n",
    "#include <cmath>\n",
    "\n",
    "void trigonometry(double angle, double *_sin, double *_cos){\n",
    "    *_sin = std::sin(angle);\n",
    "    *_cos = std::cos(angle);\n",
    "}\n",
    "\n",
    "int main () {\n",
    "\n",
    "    double angle, _sin, _cos;\n",
    "\n",
    "    std::cout << \"Write angle in radians:\";\n",
    "    std::cin >> angle;\n",
    "    std::cout << \" Trigonometry values are: \" << std::endl;\n",
    "    trigonometry(angle, &_sin, &_cos);\n",
    "    std::cout << \"Sine is: \"<< _sin << std::endl;\n",
    "    std::cout << \"Cosine is: \"<< _cos << std::endl;\n",
    "\n",
    "    return 0;\n",
    "}"
   ]
  },
  {
   "cell_type": "markdown",
   "metadata": {
    "graffitiCellId": "id_tw3bqt9"
   },
   "source": [
    "<span class=\"graffiti-highlight graffiti-id_tw3bqt9-id_mhlaiol\"><i></i><button>Run Code</button></span>"
   ]
  },
  {
   "cell_type": "markdown",
   "metadata": {
    "graffitiCellId": "id_j02z4sz",
    "graffitiConfig": {
     "rows": 6,
     "startingDirectory": "notebooks",
     "terminalId": "id_ff6nj7r",
     "type": "terminal"
    }
   },
   "source": [
    "<i>Loading terminal (id_j02z4sz), please wait...</i>"
   ]
  },
  {
   "cell_type": "code",
   "execution_count": null,
   "metadata": {
    "graffitiCellId": "id_fpbwd5v"
   },
   "outputs": [],
   "source": []
  }
 ],
 "metadata": {
  "graffiti": {
   "firstAuthorId": "11067951528",
   "id": "id_m20qcg0",
   "language": "EN"
  },
  "kernelspec": {
   "display_name": "C++17",
   "language": "C++17",
   "name": "xeus-cling-cpp17"
  },
  "language_info": {
   "codemirror_mode": "text/x-c++src",
   "file_extension": ".cpp",
   "mimetype": "text/x-c++src",
   "name": "c++",
   "version": "-std=c++17"
  }
 },
 "nbformat": 4,
 "nbformat_minor": 2
}

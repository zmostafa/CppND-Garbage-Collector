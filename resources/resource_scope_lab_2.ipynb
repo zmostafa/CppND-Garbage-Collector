{
 "cells": [
  {
   "cell_type": "markdown",
   "metadata": {},
   "source": [
    "## LAB 2\n",
    "\n",
    "### Objectives 2\n",
    "\n",
    "In this lab we are going to show differences between various scopes in C++. We are going to use same variable name in same program but for different purposes. Using global, namespace and function scope will enable us to declare same variable name with different set of data for correspoding scope\n",
    "\n",
    "### Steps 2\n",
    "\n",
    "1. Declare global variable as part of global scope\n",
    "1. Put it in global space, free from any function or closure({})\n",
    "1. Declare namespace test and name variable with same name but different value\n",
    "1. Create function called func which will use declaration of same variable with different value\n",
    "1. Print that variable inside function\n",
    "1. In main function declare local variable\n",
    "1. Print global variable with :: (global resource specificator)\n",
    "1. Print namespace variable with test::variable_name\n",
    "1. Call function func\n",
    "1. Print local variable\n"
   ]
  },
  {
   "cell_type": "code",
   "execution_count": null,
   "metadata": {
    "graffitiCellId": "id_1ozwr3q",
    "graffitiConfig": {
     "executeCellViaGraffiti": "65jizas_iug9uni"
    }
   },
   "outputs": [],
   "source": [
    "#include <iostream>\n",
    "\n",
    "namespace test {\n",
    "    int val = 5 ;\n",
    "}\n",
    "\n",
    "int val = 10;\n",
    "void func() {\n",
    "    int val =15;\n",
    "    std:: cout << \"Function val: \"<< val << std::endl;\n",
    "}\n",
    "\n",
    "int main() {\n",
    "    int val = 20;\n",
    "\n",
    "    std::cout << \" Global val: \" <<  ::val << std::endl;\n",
    "    std::cout << \" Namespace val: \" <<  test::val << std::endl;\n",
    "    func();\n",
    "    std::cout << \" Local val: \" << val << std::endl;\n",
    "    return 0;\n",
    "}"
   ]
  },
  {
   "cell_type": "markdown",
   "metadata": {
    "graffitiCellId": "id_65jizas"
   },
   "source": [
    "<span class=\"graffiti-highlight graffiti-id_65jizas-id_iug9uni\"><i></i><button>Run Code</button></span>"
   ]
  },
  {
   "cell_type": "markdown",
   "metadata": {
    "graffitiCellId": "id_vo25k5x",
    "graffitiConfig": {
     "rows": 6,
     "startingDirectory": "notebooks",
     "terminalId": "id_czi0ibn",
     "type": "terminal"
    }
   },
   "source": [
    "<i>Loading terminal (id_vo25k5x), please wait...</i>"
   ]
  },
  {
   "cell_type": "code",
   "execution_count": null,
   "metadata": {
    "graffitiCellId": "id_1no8shn"
   },
   "outputs": [],
   "source": []
  }
 ],
 "metadata": {
  "graffiti": {
   "firstAuthorId": "11067951528",
   "id": "id_l6zef1l",
   "language": "EN"
  },
  "kernelspec": {
   "display_name": "C++17",
   "language": "C++17",
   "name": "xeus-cling-cpp17"
  },
  "language_info": {
   "codemirror_mode": "text/x-c++src",
   "file_extension": ".cpp",
   "mimetype": "text/x-c++src",
   "name": "c++",
   "version": "-std=c++17"
  }
 },
 "nbformat": 4,
 "nbformat_minor": 2
}

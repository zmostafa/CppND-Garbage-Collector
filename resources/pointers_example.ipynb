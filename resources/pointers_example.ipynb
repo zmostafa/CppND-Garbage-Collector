{
 "cells": [
  {
   "cell_type": "code",
   "execution_count": null,
   "metadata": {
    "graffitiCellId": "id_1ozwr3q",
    "graffitiConfig": {
     "executeCellViaGraffiti": "65jizas_iug9uni"
    }
   },
   "outputs": [],
   "source": [
    "#include <iostream>\n",
    "\n",
    "int main(){\n",
    "    int val = 20;\n",
    "    // declare pointer variable\n",
    "    int *ptr = nullptr;\n",
    "    // note that data type\n",
    "    // of ptr and variable must be same\n",
    "    ptr = &val;\n",
    "    //assign the address of a variable to a pointer\n",
    "    std::cout << \"value at ptr (address): \" << ptr << std::endl;\n",
    "    std::cout << \"value at var (variable data): \" << val << std::endl;\n",
    "    std::cout << \"value at *ptr (dereferencing pointer): \" << *ptr << std::endl;\n",
    "    \n",
    "    return 0;\n",
    "}"
   ]
  },
  {
   "cell_type": "markdown",
   "metadata": {
    "graffitiCellId": "id_65jizas"
   },
   "source": [
    "<span class=\"graffiti-highlight graffiti-id_65jizas-id_iug9uni\"><i></i><button>Run Code</button></span>"
   ]
  },
  {
   "cell_type": "markdown",
   "metadata": {
    "graffitiCellId": "id_vo25k5x",
    "graffitiConfig": {
     "rows": 6,
     "startingDirectory": "notebooks",
     "terminalId": "id_czi0ibn",
     "type": "terminal"
    }
   },
   "source": [
    "<i>Loading terminal (id_vo25k5x), please wait...</i>"
   ]
  },
  {
   "cell_type": "code",
   "execution_count": null,
   "metadata": {
    "graffitiCellId": "id_1no8shn"
   },
   "outputs": [],
   "source": []
  }
 ],
 "metadata": {
  "graffiti": {
   "firstAuthorId": "11067951528",
   "id": "id_l6zef1l",
   "language": "EN"
  },
  "kernelspec": {
   "display_name": "C++17",
   "language": "C++17",
   "name": "xeus-cling-cpp17"
  },
  "language_info": {
   "codemirror_mode": "text/x-c++src",
   "file_extension": ".cpp",
   "mimetype": "text/x-c++src",
   "name": "c++",
   "version": "-std=c++17"
  }
 },
 "nbformat": 4,
 "nbformat_minor": 2
}

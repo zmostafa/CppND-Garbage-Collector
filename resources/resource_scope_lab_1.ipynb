{
 "cells": [
  {
   "cell_type": "markdown",
   "metadata": {
    "graffitiCellId": "id_r1aecjc"
   },
   "source": [
    "# Resource Scope LAB\n",
    "\n",
    "## LAB 1\n",
    "\n",
    "### Objectives 1\n",
    "\n",
    "In this example we are going to illustrate usage of namespaces in C++. With this techique we can create centralized contained scope of data which can be used in other parts of application. We are going to create namespace called math, where we are going to add typical mathematical constants.\n",
    "\n",
    "### Steps 1\n",
    "\n",
    "1. declare namespace called math\n",
    "1. inside of the namespace declare common mathematical constants\n",
    "1. declare pi, euler, square root of 2 , and logarithm of 2\n",
    "1. use main to print namespace variables\n",
    "1. use resource scope specificator to access namespace variables\n"
   ]
  },
  {
   "cell_type": "code",
   "execution_count": null,
   "metadata": {
    "graffitiCellId": "id_1ozwr3q",
    "graffitiConfig": {
     "executeCellViaGraffiti": "65jizas_iug9uni"
    }
   },
   "outputs": [],
   "source": [
    "#include <iostream>\n",
    "\n",
    "namespace math {\n",
    "\n",
    "    const double pi = 3.141592653;\n",
    "    const double euler =  2.718281828;\n",
    "    const double sqrt2 = 1.414213562;\n",
    "    const double ln2 = 0.6931471;\n",
    "}\n",
    "\n",
    "int main() {\n",
    "\n",
    "    std::cout << math::pi << std::endl;\n",
    "    std::cout << math::euler << std::endl;\n",
    "    std::cout << math::sqrt2 << std::endl;\n",
    "    std::cout << math::ln2 << std::endl;\n",
    "\n",
    "    return 0;\n",
    "}"
   ]
  },
  {
   "cell_type": "markdown",
   "metadata": {
    "graffitiCellId": "id_65jizas"
   },
   "source": [
    "<span class=\"graffiti-highlight graffiti-id_65jizas-id_iug9uni\"><i></i><button>Run Code</button></span>"
   ]
  },
  {
   "cell_type": "markdown",
   "metadata": {
    "graffitiCellId": "id_vo25k5x",
    "graffitiConfig": {
     "rows": 6,
     "startingDirectory": "notebooks",
     "terminalId": "id_52448ld",
     "type": "terminal"
    }
   },
   "source": [
    "<i>Loading terminal (id_vo25k5x), please wait...</i>"
   ]
  },
  {
   "cell_type": "code",
   "execution_count": null,
   "metadata": {
    "graffitiCellId": "id_1no8shn"
   },
   "outputs": [],
   "source": []
  }
 ],
 "metadata": {
  "graffiti": {
   "firstAuthorId": "11067951528",
   "id": "id_l6zef1l",
   "language": "EN"
  },
  "kernelspec": {
   "display_name": "C++17",
   "language": "C++17",
   "name": "xeus-cling-cpp17"
  },
  "language_info": {
   "codemirror_mode": "text/x-c++src",
   "file_extension": ".cpp",
   "mimetype": "text/x-c++src",
   "name": "c++",
   "version": "-std=c++17"
  }
 },
 "nbformat": 4,
 "nbformat_minor": 2
}
